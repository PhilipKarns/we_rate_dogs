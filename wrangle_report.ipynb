{
 "cells": [
  {
   "cell_type": "markdown",
   "metadata": {},
   "source": [
    "## Wrangling effort for Data Wrangling project.\n",
    "\n",
    "#### Gather:\n",
    "I gathered three sets of data this project, and ultimately combined them. The twitter-archive-enhanced csv provided to me had issues, where the tweet_ids had zeros for the last several digits, so the data wouldn't pull correctly from the twitter api when I later needed to get the additional information for retweet and favorite counts. I found that other users had similar issues and had resolved them by saving the file as a text file, which resolved my issue. I was able to retrieve and save the images file by splitting needed text off the end of the url that was provided, write the contents and save the file using pandas read_csv function.  \n",
    "\n",
    "#### Assess:\n",
    "For assessment I first checked each of the files using the info() method, to check for missing values and incorrect datatypes. Then i used the describe() method to look for data that didn't make sense, such high/low outliers that needed to be investigated. Finally I searched for duplicate data using the duplicated() method. This led to finding tidiness issues within all three files and quality issues in the Twitter and Images dataframes.\n",
    "\n",
    "#### Clean:\n",
    "Based on the results i identified in my assessment, and the order in which cleaning should be done as discussed in the Udacity course, working on the tidiness issues first made the most sense. \n",
    "\n",
    "The four columns for dog stages (doggo, floofer, puper, puppo) were values and not variables, so I moved them to one column. Then, I moved the retweet_count and favorite_count from the JSON dataframe to the Twitter dataframe using the pandas merge function (at the end I also moved the image data into the Twitter table to make visualization easier to work with). Next I performed various cleaning effors for incorrect data types, using the to_datetime function for the timestamp column, and astype function for other data type changes. Retweets were not supposed to be included in the results, so I removed the rows for retweets adn then removed the retweet columns. Finally I made some changes to make data more readable, via capitalization or removing unnecessary characters, and fixed incorrect data."
   ]
  }
 ],
 "metadata": {
  "kernelspec": {
   "display_name": "Python 3",
   "language": "python",
   "name": "python3"
  },
  "language_info": {
   "codemirror_mode": {
    "name": "ipython",
    "version": 3
   },
   "file_extension": ".py",
   "mimetype": "text/x-python",
   "name": "python",
   "nbconvert_exporter": "python",
   "pygments_lexer": "ipython3",
   "version": "3.7.5"
  }
 },
 "nbformat": 4,
 "nbformat_minor": 2
}
