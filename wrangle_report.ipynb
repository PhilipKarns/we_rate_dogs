{
 "cells": [
  {
   "cell_type": "markdown",
   "metadata": {},
   "source": [
    "## Wrangling effort for Data Wrangling project.\n",
    "\n",
    "#### Gather:\n",
    "I gathered three sets of data this project, and ultimately combined them. The twitter-archive-enhanced csv provided to me had issues, where the tweet_ids had zeros for the last several digits, so the data wouldn't pull correctly from the twitter api when I later needed to get the additional information for retweet and favorite counts. I found that other users had similar issues and had resolved them by saving the file as a text file, which resolved my issue. I was able to retrieve and save the images file by splitting needed text off the end of the url that was provided, write the contents and save the file using pandas read_csv function.  \n",
    "\n",
    "#### Assess:\n",
    "\n",
    "\n",
    "#### Clean:\n",
    "\n",
    "#### Analysis and Visualization\n"
   ]
  },
  {
   "cell_type": "code",
   "execution_count": null,
   "metadata": {},
   "outputs": [],
   "source": []
  }
 ],
 "metadata": {
  "kernelspec": {
   "display_name": "Python 3",
   "language": "python",
   "name": "python3"
  },
  "language_info": {
   "codemirror_mode": {
    "name": "ipython",
    "version": 3
   },
   "file_extension": ".py",
   "mimetype": "text/x-python",
   "name": "python",
   "nbconvert_exporter": "python",
   "pygments_lexer": "ipython3",
   "version": "3.7.5"
  }
 },
 "nbformat": 4,
 "nbformat_minor": 2
}
