{
 "cells": [
  {
   "cell_type": "markdown",
   "metadata": {},
   "source": [
    "\n",
    "\n",
    "WeRateDogs is a popular Twitter account where followers submit pictures of their dogs and the WeRateDogs account owner rates the dogs and adds funny commentary along with the reply. The ratings aren't normally what you'd expect though. While we're used to seeing ratings out of 10, such as 7/10, WeRateDogs rates the dog pictures with the first number almost always higher than 10, which shows they really love dogs, and this adds to the charm of the Twitter account. I did some research about the most popular dog types and dog stages (more about this below), to find out what dogs are most popular amongst followers and the owner of WeRateDogs.\n",
    "\n",
    "The type of dog in each picture isn't always provided by the picture submitter, so a neural network algorithm was used to guess the type of dog in each picture of the WeRateDogs Twitter feed, dating back to 2017. While the algorithm often locates the dog in the pictures, if another object is present that stands out more than the dog, that object may be guessed by the algorithm instead of the dog type. I queried the twitter account, grouping by the guessed dog types from the algorithm, and then got the average confidence level from the algorithm, which tells us, how confident the algorithm typically was when guessing a particular dog type. Below in a bar chart we can see where the algorithm sometimes finds a dog type, and sometimes finds somethign else, like a swing. However, when it does find a dog type, it's most confident in identifying Rottweilers, Pomeranians, Labrador Retrievers, and Golden Retrievers.\n",
    "<img src=\"files/dogtypeconfidence.png\">\n",
    "<br>\n",
    "<br>\n",
    "<br>\n",
    "Getting the number of times a tweet is favorited gives insight to what dog types are most liked by WeRateDogs followers. Below, I grouped by both the first and second guess from the neural network algorithm (p1, p2), and then show the confidence level of each choice(p1_conf, p2_conf), along with the average number of favorites for these dog types. While it appears that images identified by the algorithm as either Lakeland Terriers or Labrador Retrievers are liked the most, there's only a 36% combined confidence that either of these choices is correct. So there's 64% uncertainty of the dog type in those images. The next two combinations have higher combined confidence, so the results here can be debated. \n",
    "<img src=\"files/dogtypefavorites.png\">\n",
    "<br>\n",
    "<br>\n",
    "<br>\n",
    "Next I wanted to find out which dog types received the highest ratings from the WeRateDogs Twitter account owner. In the results below, p1 is the first dog-type guess from the neural network algorithm, and rating_numerator is the average rating value for that type of dog. Two types stand out, the Clumber Spaniel and Soft-Coated Wheaten Terrier. While from this data we don't know the total number of images that have been submitted for each dog type, the Twitter account owner still clearly has enjoyed the images of all of these top dog types.\n",
    "<img src=\"files/dogtyperatings.png\">\n",
    "<br>\n",
    "<br>\n",
    "<br>\n",
    "Finally, I wanted to find out how many retweets there were when a dog stage was added to the images by the WeRateDogs twitter account owner. A detailed explanation of the different dog stages is below. There were a significantly higher number of retweets for dog stages doggo and puppo. Doggos are typically bigger and/or older dogs, while puppos are a little younger, so clearly users are finding tweetsa about these dog stages more appealing than puppers, which are smaller/younger dogs, or floofers, which are typically dogs that have a lot of hair. \n",
    "<img src=\"files/dogstageretweets.png\">\n",
    "<br>\n",
    "<img src=\"files/dogstagelist.png\">"
   ]
  }
 ],
 "metadata": {
  "kernelspec": {
   "display_name": "Python 3",
   "language": "python",
   "name": "python3"
  },
  "language_info": {
   "codemirror_mode": {
    "name": "ipython",
    "version": 3
   },
   "file_extension": ".py",
   "mimetype": "text/x-python",
   "name": "python",
   "nbconvert_exporter": "python",
   "pygments_lexer": "ipython3",
   "version": "3.7.5"
  }
 },
 "nbformat": 4,
 "nbformat_minor": 2
}
